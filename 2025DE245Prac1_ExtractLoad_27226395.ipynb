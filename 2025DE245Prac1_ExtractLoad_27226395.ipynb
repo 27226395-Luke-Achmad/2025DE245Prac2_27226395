{
  "cells": [
    {
      "cell_type": "markdown",
      "metadata": {
        "id": "Fok6QWp9znpg"
      },
      "source": [
        "# Introduction to Python for Data Engineering\n",
        "\n",
        "This notebook demonstrates how to read data from a public API, process it to create useful information, and store the result in an SQLite database.\n",
        "\n",
        "It assumes you have read [this article](https://www.startdataengineering.com/post/python-for-de/#extract--load-read-and-write-data-to-any-system).\n",
        "\n",
        "**Acknowledgment**: Parts of this notebook were developed with the assistance of ChatGPT, an AI language model by OpenAI, to support instructional design and coding tasks related to data engineering concepts."
      ]
    },
    {
      "cell_type": "code",
      "execution_count": 61,
      "metadata": {
        "colab": {
          "base_uri": "https://localhost:8080/"
        },
        "id": "vpIOn2KKzVhs",
        "outputId": "4af85dd0-38d1-47ec-c1cc-67e574ca5f68"
      },
      "outputs": [
        {
          "output_type": "stream",
          "name": "stdout",
          "text": [
            "Requirement already satisfied: requests in /usr/local/lib/python3.11/dist-packages (2.32.3)\n",
            "Requirement already satisfied: charset-normalizer<4,>=2 in /usr/local/lib/python3.11/dist-packages (from requests) (3.4.3)\n",
            "Requirement already satisfied: idna<4,>=2.5 in /usr/local/lib/python3.11/dist-packages (from requests) (3.10)\n",
            "Requirement already satisfied: urllib3<3,>=1.21.1 in /usr/local/lib/python3.11/dist-packages (from requests) (2.5.0)\n",
            "Requirement already satisfied: certifi>=2017.4.17 in /usr/local/lib/python3.11/dist-packages (from requests) (2025.8.3)\n"
          ]
        }
      ],
      "source": [
        "# Install required packages\n",
        "!pip install requests"
      ]
    },
    {
      "cell_type": "code",
      "execution_count": 62,
      "metadata": {
        "id": "o2zpVKtTz-8k"
      },
      "outputs": [],
      "source": [
        "# Import libraries\n",
        "import requests\n",
        "import sqlite3\n",
        "from datetime import datetime"
      ]
    },
    {
      "cell_type": "code",
      "execution_count": 63,
      "metadata": {
        "colab": {
          "base_uri": "https://localhost:8080/"
        },
        "id": "lu4NR0Rf0LKn",
        "outputId": "c289a63a-e311-4eb6-b178-c2ae5174014e"
      },
      "outputs": [
        {
          "output_type": "execute_result",
          "data": {
            "text/plain": [
              "{'bitcoin': {'usd': 117708}}"
            ]
          },
          "metadata": {},
          "execution_count": 63
        }
      ],
      "source": [
        "# Read data from CoinGecko API\n",
        "url = \"https://api.coingecko.com/api/v3/simple/price?ids=bitcoin&vs_currencies=usd\"\n",
        "response = requests.get(url)\n",
        "data = response.json()\n",
        "\n",
        "data\n"
      ]
    },
    {
      "cell_type": "markdown",
      "metadata": {
        "id": "6-vfkALo0P9Q"
      },
      "source": [
        "We will extract the Bitcoin price in USD and convert it to ZAR using an estimated exchange rate.\n",
        "This is an example of turning raw data into useful **information**."
      ]
    },
    {
      "cell_type": "markdown",
      "source": [],
      "metadata": {
        "id": "5p4ZjH9NjnXC"
      }
    },
    {
      "cell_type": "code",
      "execution_count": 64,
      "metadata": {
        "id": "60EpkZEO0V0d"
      },
      "outputs": [],
      "source": [
        "# Function to convert USD to ZAR\n",
        "def convert_usd_to_zar(usd_amount, rate=18.5):\n",
        "    return round(usd_amount * rate, 2)"
      ]
    },
    {
      "cell_type": "code",
      "execution_count": 65,
      "metadata": {
        "colab": {
          "base_uri": "https://localhost:8080/"
        },
        "id": "ecC-Yy-E0a_t",
        "outputId": "83beb3a9-592d-4cbe-ed90-ea2ab3b42584"
      },
      "outputs": [
        {
          "output_type": "stream",
          "name": "stdout",
          "text": [
            "Please enter the currency code you want to convert to: zar\n",
            "Your code zar is valid, converting to your desired currency!\n",
            "Bitcoin price in USD: 117708\n",
            "Estimated price in zar: 2071260\n"
          ]
        }
      ],
      "source": [
        "# Extract USD price and apply transformation\n",
        "supported_codes_url = \"https://api.coingecko.com/api/v3/simple/supported_vs_currencies\"\n",
        "response_2 = requests.get(supported_codes_url)\n",
        "supported_currencies = response_2.json()\n",
        "\n",
        "currency = input(\"Please enter the currency code you want to convert to: \").lower().strip()\n",
        "\n",
        "if currency in supported_currencies:\n",
        "  print(f\"Your code {currency} is valid, converting to your desired currency!\")\n",
        "  url_2 = \"https://api.coingecko.com/api/v3/simple/price?ids=bitcoin&vs_currencies=\" + currency\n",
        "  response_2 = requests.get(url_2)\n",
        "  data_2 = response_2.json()\n",
        "\n",
        "  cur_price = data_2[\"bitcoin\"][currency]\n",
        "  usd_price = data[\"bitcoin\"][\"usd\"]\n",
        "  timestamp = datetime.now().isoformat()\n",
        "\n",
        "  print(f\"Bitcoin price in USD: {usd_price}\")\n",
        "  print(f\"Estimated price in {currency}: {cur_price}\")\n",
        "else:\n",
        "  print(f\"Unfortunately {currency} is not a valid or supported currency code.\")\n",
        "\n",
        "  \"\"\"\n",
        "    It is still in the form of an estimation as it is not the exact value based off of the usd value at that exact point in time but it will\n",
        "    always work regardless of what the exchange rate changes to as it relieson the reference echange rates that coin gecko uses which ensures reliability\n",
        "    rather than using a hard coded value which is not as future proof as relying on the data retrieved and managed by coin gecko that is live.\n",
        "    By using a second low cost api quarie it eliminates the need for a separate function that carries out a conversion on the USD value.\n",
        "  \"\"\"\n",
        "\n"
      ]
    },
    {
      "cell_type": "code",
      "execution_count": 68,
      "metadata": {
        "id": "wpimWgg00lgl"
      },
      "outputs": [],
      "source": [
        "# Connect to SQLite database (or create it)\n",
        "conn = sqlite3.connect(\"bitcoin_prices_new.db\")\n",
        "cursor = conn.cursor()\n",
        "\n",
        "# Create table if it doesn't exist\n",
        "cursor.execute('''\n",
        "CREATE TABLE IF NOT EXISTS prices (\n",
        "    timestamp TEXT,\n",
        "    usd REAL,\n",
        "    currency TEXT,\n",
        "    cur_price REAL\n",
        ")\n",
        "''')\n",
        "\n",
        "# Insert the new row\n",
        "cursor.execute(\"INSERT INTO prices VALUES (?, ?, ?, ?)\", (timestamp, usd_price, currency, cur_price))\n",
        "conn.commit()\n",
        "conn.close()\n"
      ]
    },
    {
      "cell_type": "code",
      "execution_count": 69,
      "metadata": {
        "colab": {
          "base_uri": "https://localhost:8080/"
        },
        "id": "URSO8F6x0q1q",
        "outputId": "f02fc72c-03ad-42df-a0ea-74b8d95cd117"
      },
      "outputs": [
        {
          "output_type": "stream",
          "name": "stdout",
          "text": [
            "('2025-08-17T20:44:07.798215', 117708.0, 'zar', 2071260.0)\n"
          ]
        }
      ],
      "source": [
        "# Check if data was successfully written\n",
        "conn = sqlite3.connect(\"bitcoin_prices_new.db\")\n",
        "cursor = conn.cursor()\n",
        "\n",
        "# Show the last 5 rows\n",
        "rows = cursor.execute(\"SELECT * FROM prices ORDER BY timestamp DESC LIMIT 5\").fetchall()\n",
        "for row in rows:\n",
        "    print(row)\n",
        "\n",
        "conn.close()\n"
      ]
    }
  ],
  "metadata": {
    "colab": {
      "provenance": [],
      "toc_visible": true
    },
    "kernelspec": {
      "display_name": "Python 3",
      "name": "python3"
    },
    "language_info": {
      "name": "python"
    }
  },
  "nbformat": 4,
  "nbformat_minor": 0
}